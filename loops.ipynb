{
  "nbformat": 4,
  "nbformat_minor": 0,
  "metadata": {
    "kernelspec": {
      "display_name": "Python 3",
      "language": "python",
      "name": "python3"
    },
    "language_info": {
      "codemirror_mode": {
        "name": "ipython",
        "version": 3
      },
      "file_extension": ".py",
      "mimetype": "text/x-python",
      "name": "python",
      "nbconvert_exporter": "python",
      "pygments_lexer": "ipython3",
      "version": "3.8.5"
    },
    "colab": {
      "name": "loops.ipynb",
      "provenance": [],
      "collapsed_sections": [],
      "include_colab_link": true
    }
  },
  "cells": [
    {
      "cell_type": "markdown",
      "metadata": {
        "id": "view-in-github",
        "colab_type": "text"
      },
      "source": [
        "<a href=\"https://colab.research.google.com/github/jony6484/my-first-binder/blob/master/loops.ipynb\" target=\"_parent\"><img src=\"https://colab.research.google.com/assets/colab-badge.svg\" alt=\"Open In Colab\"/></a>"
      ]
    },
    {
      "cell_type": "code",
      "metadata": {
        "id": "iMZBkZwoTHC_",
        "colab_type": "code",
        "colab": {
          "base_uri": "https://localhost:8080/",
          "height": 102
        },
        "outputId": "761485f3-31d9-47fe-d1e8-b7fad3ecbf82"
      },
      "source": [
        "i=0\n",
        "while i<5:\n",
        "    print(i)\n",
        "    i += 1"
      ],
      "execution_count": 1,
      "outputs": [
        {
          "output_type": "stream",
          "text": [
            "0\n",
            "1\n",
            "2\n",
            "3\n",
            "4\n"
          ],
          "name": "stdout"
        }
      ]
    },
    {
      "cell_type": "code",
      "metadata": {
        "id": "EXXvxHmUTHDF",
        "colab_type": "code",
        "colab": {
          "base_uri": "https://localhost:8080/",
          "height": 85
        },
        "outputId": "5bad6bf1-a230-4b54-93d9-d111a6f0fae1"
      },
      "source": [
        "user_input = 0\n",
        "while user_input not in [5, 6, 7]:\n",
        "   user_input = int(input(\"How many months a year do grizzly bears hibernate?\"))\n",
        "   print(\"You entered: \", user_input)"
      ],
      "execution_count": 2,
      "outputs": [
        {
          "output_type": "stream",
          "text": [
            "How many months a year do grizzly bears hibernate?4\n",
            "You entered:  4\n",
            "How many months a year do grizzly bears hibernate?5\n",
            "You entered:  5\n"
          ],
          "name": "stdout"
        }
      ]
    },
    {
      "cell_type": "code",
      "metadata": {
        "id": "99nMRh2gTHDJ",
        "colab_type": "code",
        "colab": {
          "base_uri": "https://localhost:8080/",
          "height": 34
        },
        "outputId": "211709ab-2d7d-4b8e-d5d6-ed6f23e8562b"
      },
      "source": [
        "i=0\n",
        "while i<10:\n",
        "    i+=1\n",
        "    if i%2 == 0:\n",
        "        break\n",
        "    print(i)"
      ],
      "execution_count": 3,
      "outputs": [
        {
          "output_type": "stream",
          "text": [
            "1\n"
          ],
          "name": "stdout"
        }
      ]
    },
    {
      "cell_type": "code",
      "metadata": {
        "id": "l18kkpweTHDM",
        "colab_type": "code",
        "colab": {
          "base_uri": "https://localhost:8080/",
          "height": 102
        },
        "outputId": "129d1b35-c14c-4f36-e076-b57bf6bddd9f"
      },
      "source": [
        "i=0\n",
        "while i<10:\n",
        "    i+=1\n",
        "    if i%2 == 0:\n",
        "        continue\n",
        "    print(i)"
      ],
      "execution_count": 4,
      "outputs": [
        {
          "output_type": "stream",
          "text": [
            "1\n",
            "3\n",
            "5\n",
            "7\n",
            "9\n"
          ],
          "name": "stdout"
        }
      ]
    },
    {
      "cell_type": "code",
      "metadata": {
        "id": "Bi30bxRQTHDP",
        "colab_type": "code",
        "colab": {}
      },
      "source": [
        "def squared_numbers(start, stop):\n",
        "    i=start\n",
        "    list_of_squares=[]\n",
        "    while i<=stop:\n",
        "        list_of_squares.append(i**2)\n",
        "        i+=1\n",
        "    return list_of_squares\n",
        "        "
      ],
      "execution_count": 5,
      "outputs": []
    },
    {
      "cell_type": "code",
      "metadata": {
        "id": "p2CQmfoYTHDT",
        "colab_type": "code",
        "colab": {
          "base_uri": "https://localhost:8080/",
          "height": 34
        },
        "outputId": "a190148d-21d9-4f26-e847-2668dd14451a"
      },
      "source": [
        "squared_numbers(4, 8)"
      ],
      "execution_count": 6,
      "outputs": [
        {
          "output_type": "execute_result",
          "data": {
            "text/plain": [
              "[16, 25, 36, 49, 64]"
            ]
          },
          "metadata": {
            "tags": []
          },
          "execution_count": 6
        }
      ]
    },
    {
      "cell_type": "code",
      "metadata": {
        "id": "76ZncMmLTHDX",
        "colab_type": "code",
        "colab": {
          "base_uri": "https://localhost:8080/",
          "height": 34
        },
        "outputId": "c6e62fc8-eb2b-47b2-8267-8a566a55b234"
      },
      "source": [
        "squared_numbers(-3, 3)"
      ],
      "execution_count": 7,
      "outputs": [
        {
          "output_type": "execute_result",
          "data": {
            "text/plain": [
              "[9, 4, 1, 0, 1, 4, 9]"
            ]
          },
          "metadata": {
            "tags": []
          },
          "execution_count": 7
        }
      ]
    },
    {
      "cell_type": "code",
      "metadata": {
        "id": "-xGLoJNeTHDa",
        "colab_type": "code",
        "colab": {
          "base_uri": "https://localhost:8080/",
          "height": 68
        },
        "outputId": "783167d5-9938-4f8c-bcce-d01a6accba95"
      },
      "source": [
        "# for loops:\n",
        "animals = [\"Grizzly Bear\", \"Siberian Husky\", \"Reindeer\"]\n",
        "for animal in animals:\n",
        "    print(animal) "
      ],
      "execution_count": 8,
      "outputs": [
        {
          "output_type": "stream",
          "text": [
            "Grizzly Bear\n",
            "Siberian Husky\n",
            "Reindeer\n"
          ],
          "name": "stdout"
        }
      ]
    },
    {
      "cell_type": "code",
      "metadata": {
        "id": "9VXzPXWTTHDe",
        "colab_type": "code",
        "colab": {
          "base_uri": "https://localhost:8080/",
          "height": 35
        },
        "outputId": "a900bd26-68e1-4bb7-a44e-330722569321"
      },
      "source": [
        "animal"
      ],
      "execution_count": 9,
      "outputs": [
        {
          "output_type": "execute_result",
          "data": {
            "application/vnd.google.colaboratory.intrinsic+json": {
              "type": "string"
            },
            "text/plain": [
              "'Reindeer'"
            ]
          },
          "metadata": {
            "tags": []
          },
          "execution_count": 9
        }
      ]
    },
    {
      "cell_type": "code",
      "metadata": {
        "id": "T6eW8ogXTHDh",
        "colab_type": "code",
        "colab": {
          "base_uri": "https://localhost:8080/",
          "height": 153
        },
        "outputId": "4bdfa5d8-40d7-4fdd-e368-ed728eb4e272"
      },
      "source": [
        "for letter in \"Raindeer\":\n",
        "    print(letter.upper())"
      ],
      "execution_count": 10,
      "outputs": [
        {
          "output_type": "stream",
          "text": [
            "R\n",
            "A\n",
            "I\n",
            "N\n",
            "D\n",
            "E\n",
            "E\n",
            "R\n"
          ],
          "name": "stdout"
        }
      ]
    },
    {
      "cell_type": "code",
      "metadata": {
        "id": "cvX68STZTHDk",
        "colab_type": "code",
        "colab": {
          "base_uri": "https://localhost:8080/",
          "height": 68
        },
        "outputId": "88c4b68f-4e6f-454a-d078-6bf611efae72"
      },
      "source": [
        "animal_sounds = [[\"bear\", \"roar\"], [\"dog\", \"bark\"], [\"deer\", \"bellow\"]]\n",
        "for item in animal_sounds:\n",
        "     print(\"The sound a \" + item[0] + \" makes:\\t\" + item[1])"
      ],
      "execution_count": 11,
      "outputs": [
        {
          "output_type": "stream",
          "text": [
            "The sound a bear makes:\troar\n",
            "The sound a dog makes:\tbark\n",
            "The sound a deer makes:\tbellow\n"
          ],
          "name": "stdout"
        }
      ]
    },
    {
      "cell_type": "code",
      "metadata": {
        "id": "8yq5kCx2THDn",
        "colab_type": "code",
        "colab": {
          "base_uri": "https://localhost:8080/",
          "height": 102
        },
        "outputId": "4aacea1e-0960-4de7-d333-1e20382e8611"
      },
      "source": [
        "num = 0\n",
        "while num < 5:\n",
        "    print(num)\n",
        "    num += 1"
      ],
      "execution_count": 12,
      "outputs": [
        {
          "output_type": "stream",
          "text": [
            "0\n",
            "1\n",
            "2\n",
            "3\n",
            "4\n"
          ],
          "name": "stdout"
        }
      ]
    },
    {
      "cell_type": "code",
      "metadata": {
        "id": "GxHnGb64THDq",
        "colab_type": "code",
        "colab": {
          "base_uri": "https://localhost:8080/",
          "height": 102
        },
        "outputId": "226410e6-c79f-4f31-f7e8-5d90d47269dc"
      },
      "source": [
        "nums = [0,1,2,3,4]\n",
        "for num in nums:\n",
        "    print(num)"
      ],
      "execution_count": 13,
      "outputs": [
        {
          "output_type": "stream",
          "text": [
            "0\n",
            "1\n",
            "2\n",
            "3\n",
            "4\n"
          ],
          "name": "stdout"
        }
      ]
    },
    {
      "cell_type": "code",
      "metadata": {
        "id": "_TLjC4C3THDt",
        "colab_type": "code",
        "colab": {
          "base_uri": "https://localhost:8080/",
          "height": 102
        },
        "outputId": "b7c6c9c7-46a0-4758-fa36-23df4fc14f0f"
      },
      "source": [
        "for num in range(5):\n",
        "    print(num)"
      ],
      "execution_count": 14,
      "outputs": [
        {
          "output_type": "stream",
          "text": [
            "0\n",
            "1\n",
            "2\n",
            "3\n",
            "4\n"
          ],
          "name": "stdout"
        }
      ]
    },
    {
      "cell_type": "code",
      "metadata": {
        "id": "uq6CG2swTHDx",
        "colab_type": "code",
        "colab": {
          "base_uri": "https://localhost:8080/",
          "height": 51
        },
        "outputId": "ee225f88-33f3-4519-d871-dda57a477927"
      },
      "source": [
        "for num in range(1,3):\n",
        "    print(num)"
      ],
      "execution_count": 15,
      "outputs": [
        {
          "output_type": "stream",
          "text": [
            "1\n",
            "2\n"
          ],
          "name": "stdout"
        }
      ]
    },
    {
      "cell_type": "code",
      "metadata": {
        "id": "OH_gEmZSTHD1",
        "colab_type": "code",
        "colab": {}
      },
      "source": [
        "def is_greater(my_list, n):\n",
        "    out_list = []\n",
        "    for num in my_list:\n",
        "        if num > n:\n",
        "            out_list.append(num)\n",
        "    return out_list"
      ],
      "execution_count": 16,
      "outputs": []
    },
    {
      "cell_type": "code",
      "metadata": {
        "id": "N44T1-2sTHD3",
        "colab_type": "code",
        "colab": {
          "base_uri": "https://localhost:8080/",
          "height": 34
        },
        "outputId": "60d5ea07-42d4-4573-9cd8-edd9938989ce"
      },
      "source": [
        "result = is_greater([1, 30, 25, 60, 27, 28], 28)\n",
        "print(result)"
      ],
      "execution_count": 17,
      "outputs": [
        {
          "output_type": "stream",
          "text": [
            "[30, 60]\n"
          ],
          "name": "stdout"
        }
      ]
    },
    {
      "cell_type": "code",
      "metadata": {
        "id": "mfcOCtZ_THD6",
        "colab_type": "code",
        "colab": {}
      },
      "source": [
        "def numbers_letters_count(my_str):\n",
        "    numeric = \"0123456789\"\n",
        "    num_count = 0\n",
        "    char_count = 0\n",
        "    for char in my_str:\n",
        "      if char in numeric:\n",
        "        num_count += 1\n",
        "      else:\n",
        "        char_count += 1\n",
        "    return [num_count, char_count]  "
      ],
      "execution_count": 21,
      "outputs": []
    },
    {
      "cell_type": "code",
      "metadata": {
        "id": "JAowMBjxYKSr",
        "colab_type": "code",
        "colab": {
          "base_uri": "https://localhost:8080/",
          "height": 34
        },
        "outputId": "454719a1-3892-4e69-e17e-237a71ae9d6b"
      },
      "source": [
        "print(numbers_letters_count(\"Python 3.6.3\"))"
      ],
      "execution_count": 22,
      "outputs": [
        {
          "output_type": "stream",
          "text": [
            "[3, 9]\n"
          ],
          "name": "stdout"
        }
      ]
    },
    {
      "cell_type": "code",
      "metadata": {
        "id": "-iB7i7KsZCeu",
        "colab_type": "code",
        "colab": {}
      },
      "source": [
        "def seven_boom(end_number):\n",
        "    out_list = []\n",
        "    for num in range(end_number+1):\n",
        "        if(num % 7 == 0 or '7' in str(num)):\n",
        "            out_list.append('BOOM')\n",
        "        else:\n",
        "            out_list.append(num)\n",
        "    return out_list"
      ],
      "execution_count": 26,
      "outputs": []
    },
    {
      "cell_type": "code",
      "metadata": {
        "id": "IgQYgqTnaAJ3",
        "colab_type": "code",
        "colab": {
          "base_uri": "https://localhost:8080/",
          "height": 34
        },
        "outputId": "c16cc9f8-f73a-4cc5-8146-e9f1d11f2d05"
      },
      "source": [
        "print(seven_boom(17))"
      ],
      "execution_count": 27,
      "outputs": [
        {
          "output_type": "stream",
          "text": [
            "['BOOM', 1, 2, 3, 4, 5, 6, 'BOOM', 8, 9, 10, 11, 12, 13, 'BOOM', 15, 16, 'BOOM']\n"
          ],
          "name": "stdout"
        }
      ]
    },
    {
      "cell_type": "code",
      "metadata": {
        "id": "OtEynVAMaCCb",
        "colab_type": "code",
        "colab": {}
      },
      "source": [
        "def sequence_del(my_str):\n",
        "    out_str = my_str[0]\n",
        "    last_char = my_str[0]\n",
        "    my_str = my_str[1:]\n",
        "    for char in my_str:\n",
        "        if char != last_char:\n",
        "            out_str += char\n",
        "            last_char = char\n",
        "    return out_str"
      ],
      "execution_count": 28,
      "outputs": []
    },
    {
      "cell_type": "code",
      "metadata": {
        "id": "2eJxkmT0ccd9",
        "colab_type": "code",
        "colab": {
          "base_uri": "https://localhost:8080/",
          "height": 35
        },
        "outputId": "7284b4e3-813b-458a-c834-735a2cec3df2"
      },
      "source": [
        "sequence_del(\"ppyyyyythhhhhooonnnnn\")"
      ],
      "execution_count": 34,
      "outputs": [
        {
          "output_type": "execute_result",
          "data": {
            "application/vnd.google.colaboratory.intrinsic+json": {
              "type": "string"
            },
            "text/plain": [
              "'python'"
            ]
          },
          "metadata": {
            "tags": []
          },
          "execution_count": 34
        }
      ]
    },
    {
      "cell_type": "code",
      "metadata": {
        "id": "5RGU2iQSceuK",
        "colab_type": "code",
        "colab": {
          "base_uri": "https://localhost:8080/",
          "height": 35
        },
        "outputId": "8159ac6f-b57c-4c9b-dbec-1336bd207bf4"
      },
      "source": [
        "sequence_del(\"SSSSsssshhhh\")"
      ],
      "execution_count": 30,
      "outputs": [
        {
          "output_type": "execute_result",
          "data": {
            "application/vnd.google.colaboratory.intrinsic+json": {
              "type": "string"
            },
            "text/plain": [
              "'Ssh'"
            ]
          },
          "metadata": {
            "tags": []
          },
          "execution_count": 30
        }
      ]
    },
    {
      "cell_type": "code",
      "metadata": {
        "id": "QH0H4rWHchKy",
        "colab_type": "code",
        "colab": {
          "base_uri": "https://localhost:8080/",
          "height": 35
        },
        "outputId": "3d6f2def-9753-4132-ba74-1d6ea023cfa7"
      },
      "source": [
        "sequence_del(\"Heeyyy   yyouuuu!!!\")"
      ],
      "execution_count": 31,
      "outputs": [
        {
          "output_type": "execute_result",
          "data": {
            "application/vnd.google.colaboratory.intrinsic+json": {
              "type": "string"
            },
            "text/plain": [
              "'Hey you!'"
            ]
          },
          "metadata": {
            "tags": []
          },
          "execution_count": 31
        }
      ]
    },
    {
      "cell_type": "code",
      "metadata": {
        "id": "mUGj6t4jcjC2",
        "colab_type": "code",
        "colab": {}
      },
      "source": [
        ""
      ],
      "execution_count": null,
      "outputs": []
    }
  ]
}