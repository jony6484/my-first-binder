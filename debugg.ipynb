{
 "cells": [
  {
   "cell_type": "code",
   "execution_count": 1,
   "metadata": {},
   "outputs": [],
   "source": [
    "def sort_anagrams(list_of_strings):\n",
    "    in_list = list(list_of_strings)\n",
    "    out_list = []\n",
    "    inner_list = []\n",
    "    for word in in_list:\n",
    "        #import pdb; pdb.set_trace()\n",
    "        inner_list.append(word)\n",
    "        in_list.remove(word)\n",
    "        for other_word in in_list:\n",
    "            if sorted(word) == sorted(other_word):\n",
    "                inner_list.append(other_word)\n",
    "                in_list.remove(other_word)\n",
    "        out_list.append(inner_list)\n",
    "        #print(out_list)\n",
    "        #import pdb; pdb.set_trace()\n",
    "        inner_list = []\n",
    "    return out_list"
   ]
  },
  {
   "cell_type": "code",
   "execution_count": 2,
   "metadata": {},
   "outputs": [],
   "source": [
    "list_of_words = ['deltas', 'retainers', 'desalt', 'pants', 'slated', 'generating', 'ternaries', 'smelters', 'termless', 'salted', 'staled', 'greatening', 'lasted', 'resmelts']"
   ]
  },
  {
   "cell_type": "code",
   "execution_count": 3,
   "metadata": {},
   "outputs": [],
   "source": [
    "out = sort_anagrams(list_of_words)"
   ]
  },
  {
   "cell_type": "code",
   "execution_count": null,
   "metadata": {},
   "outputs": [],
   "source": []
  }
 ],
 "metadata": {
  "kernelspec": {
   "display_name": "xpython",
   "language": "python",
   "name": "xpython"
  },
  "language_info": {
   "file_extension": ".py",
   "mimetype": "text/x-python",
   "name": "python",
   "version": "3.7.6"
  }
 },
 "nbformat": 4,
 "nbformat_minor": 4
}
