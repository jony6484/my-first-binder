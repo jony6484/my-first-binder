{
  "nbformat": 4,
  "nbformat_minor": 0,
  "metadata": {
    "colab": {
      "name": "oneLiners.ipynb",
      "provenance": [],
      "collapsed_sections": [],
      "mount_file_id": "1AmAPXbrJr8niOC01exfmm2OvNiPGlrBt",
      "authorship_tag": "ABX9TyOzux2+PQ9xMwBuDx/FTeT9",
      "include_colab_link": true
    },
    "kernelspec": {
      "name": "python3",
      "display_name": "Python 3"
    }
  },
  "cells": [
    {
      "cell_type": "markdown",
      "metadata": {
        "id": "view-in-github",
        "colab_type": "text"
      },
      "source": [
        "<a href=\"https://colab.research.google.com/github/jony6484/my-first-binder/blob/master/oneLiners.ipynb\" target=\"_parent\"><img src=\"https://colab.research.google.com/assets/colab-badge.svg\" alt=\"Open In Colab\"/></a>"
      ]
    },
    {
      "cell_type": "code",
      "metadata": {
        "id": "Atl0UKpW4d31"
      },
      "source": [
        "def combine_coins(coin,numbers):\n",
        "    output = \"\"\n",
        "    for num in numbers:\n",
        "        output += coin + str(num) + \", \"\n",
        "    return output[:-2]"
      ],
      "execution_count": null,
      "outputs": []
    },
    {
      "cell_type": "code",
      "metadata": {
        "id": "6x8CEtuz4mUU",
        "outputId": "f3803229-74d8-4b1b-94a6-e7a2be365a19",
        "colab": {
          "base_uri": "https://localhost:8080/",
          "height": 34
        }
      },
      "source": [
        "print(combine_coins('$', range(5)))"
      ],
      "execution_count": null,
      "outputs": [
        {
          "output_type": "stream",
          "text": [
            "$0, $1, $2, $3, $4\n"
          ],
          "name": "stdout"
        }
      ]
    },
    {
      "cell_type": "code",
      "metadata": {
        "id": "EPtoFaIh5T97"
      },
      "source": [
        "def square(num):\n",
        "    return num**2\n",
        "list_of_numbers = [2, 3, 4, 5, 6]"
      ],
      "execution_count": null,
      "outputs": []
    },
    {
      "cell_type": "code",
      "metadata": {
        "id": "eDPS73EBmzOC",
        "outputId": "c7e04b4b-03f1-4ded-c772-68fcb7f28824",
        "colab": {
          "base_uri": "https://localhost:8080/",
          "height": 34
        }
      },
      "source": [
        "new_list = []\n",
        "for number in list_of_numbers:\n",
        "    new_list.append(square(number))\n",
        "\n",
        "print(new_list)"
      ],
      "execution_count": null,
      "outputs": [
        {
          "output_type": "stream",
          "text": [
            "[4, 9, 16, 25, 36]\n"
          ],
          "name": "stdout"
        }
      ]
    },
    {
      "cell_type": "code",
      "metadata": {
        "id": "yZqhMy_0nAGV",
        "outputId": "03ce9c62-8d84-42de-f0ff-22ecfe205b11",
        "colab": {
          "base_uri": "https://localhost:8080/",
          "height": 51
        }
      },
      "source": [
        "# lesson 1 - performing a procedure on all list items in one line and without a loop:\n",
        "result = map(square, list_of_numbers)\n",
        "print(result)\n",
        "print(list(result))"
      ],
      "execution_count": null,
      "outputs": [
        {
          "output_type": "stream",
          "text": [
            "<map object at 0x7fdecde71cc0>\n",
            "[4, 9, 16, 25, 36]\n"
          ],
          "name": "stdout"
        }
      ]
    },
    {
      "cell_type": "code",
      "metadata": {
        "id": "eWFuZGQanPK7",
        "outputId": "5632d92f-ad23-49ba-93de-b40b4b41d3d6",
        "colab": {
          "base_uri": "https://localhost:8080/",
          "height": 34
        }
      },
      "source": [
        "# map on two lists:\n",
        "def magic(a, b):\n",
        "    return a * b\n",
        "list_one = [1, 2, -5, 6]\n",
        "list_two = [2, -1, 3, 4]\n",
        "print(list(map(magic, list_one, list_two)))"
      ],
      "execution_count": null,
      "outputs": [
        {
          "output_type": "stream",
          "text": [
            "[2, -2, -15, 24]\n"
          ],
          "name": "stdout"
        }
      ]
    },
    {
      "cell_type": "code",
      "metadata": {
        "id": "vro_7TPitpeo",
        "outputId": "56936fe1-fa4d-40f7-f4f0-80282e300c40",
        "colab": {
          "base_uri": "https://localhost:8080/",
          "height": 34
        }
      },
      "source": [
        "# The function map:\n",
        "# List of file names.\n",
        "my_files = [\"Dance remix.mp4\", \"work.docx\", \"lists.pdf\", \"cheatsheet.pdf\", \"Shallow.mp4\", \"security-lesson.ppt\", \"The good doctor.srt\", \"lecture slides.pptx\", \"It gets better (with time).mp4\", \"exam.docx\"]\n",
        "# Filter mp4 files using the function \"filter\".\n",
        "def is_mp4_file(filename):\n",
        "    return filename.endswith(\".mp4\")\n",
        "print(list( filter(is_mp4_file, my_files) ))"
      ],
      "execution_count": null,
      "outputs": [
        {
          "output_type": "stream",
          "text": [
            "['Dance remix.mp4', 'Shallow.mp4', 'It gets better (with time).mp4']\n"
          ],
          "name": "stdout"
        }
      ]
    },
    {
      "cell_type": "code",
      "metadata": {
        "id": "jBm-mNda7fBt",
        "outputId": "8b092ce2-ac9c-4ba8-afd3-d86a6d54f118",
        "colab": {
          "base_uri": "https://localhost:8080/",
          "height": 34
        }
      },
      "source": [
        "# The reduce function:\n",
        "shopping_list = [100, 150, 27, 137, 45]\n",
        "def add(x, y):\n",
        "    return x + y\n",
        "\n",
        "import functools\n",
        "# A sum:\n",
        "print(functools.reduce(add, shopping_list))"
      ],
      "execution_count": null,
      "outputs": [
        {
          "output_type": "stream",
          "text": [
            "459\n"
          ],
          "name": "stdout"
        }
      ]
    },
    {
      "cell_type": "code",
      "metadata": {
        "id": "w3DLzMox9UzU",
        "outputId": "85aa1bca-ecc5-4f4c-d094-75c088b4e927",
        "colab": {
          "base_uri": "https://localhost:8080/",
          "height": 34
        }
      },
      "source": [
        "list_of_words = (\"hello \", \"this \", \"is \", \"a \", \"tuple\")\n",
        "print(functools.reduce(add,list_of_words))"
      ],
      "execution_count": null,
      "outputs": [
        {
          "output_type": "stream",
          "text": [
            "hello this is a tuple\n"
          ],
          "name": "stdout"
        }
      ]
    },
    {
      "cell_type": "code",
      "metadata": {
        "id": "gnwr3GoG_qmC"
      },
      "source": [
        "# Ex. 1.1.2:\n",
        "def doub(str1, char):\n",
        "    return str1 + char*2\n",
        "import functools\n",
        "def double_letter(my_str):\n",
        "    return my_str[0] + functools.reduce(doub, my_str)"
      ],
      "execution_count": null,
      "outputs": []
    },
    {
      "cell_type": "code",
      "metadata": {
        "id": "xpp9UAD_A_C0",
        "outputId": "67efb857-1d28-4e7a-a48d-78e3da95d56e",
        "colab": {
          "base_uri": "https://localhost:8080/",
          "height": 51
        }
      },
      "source": [
        "print(double_letter(\"python\"))\n",
        "print(double_letter(\"we are the champions!\"))"
      ],
      "execution_count": null,
      "outputs": [
        {
          "output_type": "stream",
          "text": [
            "ppyytthhoonn\n",
            "wwee  aarree  tthhee  cchhaammppiioonnss!!\n"
          ],
          "name": "stdout"
        }
      ]
    },
    {
      "cell_type": "code",
      "metadata": {
        "id": "rkazs5NxBCoD"
      },
      "source": [
        "def doub2(char):\n",
        "    return char*2\n",
        "\n",
        "def double_letter2(my_str):\n",
        "    return \"\".join(list(map(doub2, my_str)))"
      ],
      "execution_count": null,
      "outputs": []
    },
    {
      "cell_type": "code",
      "metadata": {
        "id": "in4vzkQaDuGK",
        "outputId": "5bedb223-02ca-4f1f-9d95-40dd379528d0",
        "colab": {
          "base_uri": "https://localhost:8080/",
          "height": 51
        }
      },
      "source": [
        "print(double_letter2(\"python\"))\n",
        "print(double_letter2(\"we are the champions!\"))"
      ],
      "execution_count": null,
      "outputs": [
        {
          "output_type": "stream",
          "text": [
            "ppyytthhoonn\n",
            "wwee  aarree  tthhee  cchhaammppiioonnss!!\n"
          ],
          "name": "stdout"
        }
      ]
    },
    {
      "cell_type": "code",
      "metadata": {
        "id": "VW1Edz1XDxl4"
      },
      "source": [
        "# Ex. 1.1.3:\n",
        "def is_dev_four(num):\n",
        "    return num % 4 == 0\n",
        "\n",
        "def four_dividers(number):\n",
        "    return list(filter(is_dev_four, range(1,number + 1)))"
      ],
      "execution_count": null,
      "outputs": []
    },
    {
      "cell_type": "code",
      "metadata": {
        "id": "djXBOXuSFBwC",
        "outputId": "abf675df-3980-4fc2-913a-9e35a282f0a0",
        "colab": {
          "base_uri": "https://localhost:8080/",
          "height": 51
        }
      },
      "source": [
        "print(four_dividers(9))\n",
        "print(four_dividers(3))"
      ],
      "execution_count": null,
      "outputs": [
        {
          "output_type": "stream",
          "text": [
            "[4, 8]\n",
            "[]\n"
          ],
          "name": "stdout"
        }
      ]
    },
    {
      "cell_type": "code",
      "metadata": {
        "id": "p5KX4RClFEE_"
      },
      "source": [
        "# Ex. 1.1.4:\n",
        "import functools\n",
        "def sum(x, y):\n",
        "    return int(x) + int(y)\n",
        "\n",
        "def sum_of_digits(number):\n",
        "    return functools.reduce(sum, list(str(number)))"
      ],
      "execution_count": null,
      "outputs": []
    },
    {
      "cell_type": "code",
      "metadata": {
        "id": "lFcyzmaNwLUl",
        "outputId": "e26debc6-d7e1-4bbb-fb81-278eb2520714",
        "colab": {
          "base_uri": "https://localhost:8080/",
          "height": 34
        }
      },
      "source": [
        "sum_of_digits(104)"
      ],
      "execution_count": null,
      "outputs": [
        {
          "output_type": "execute_result",
          "data": {
            "text/plain": [
              "5"
            ]
          },
          "metadata": {
            "tags": []
          },
          "execution_count": 31
        }
      ]
    },
    {
      "cell_type": "code",
      "metadata": {
        "id": "Vd2FDLqQwN73",
        "outputId": "5a08ea11-0011-43fa-82b4-d52ae0e3767e",
        "colab": {
          "base_uri": "https://localhost:8080/",
          "height": 34
        }
      },
      "source": [
        "# lambda functions:\n",
        "(lambda x, y: x + y) (2, 5)"
      ],
      "execution_count": null,
      "outputs": [
        {
          "output_type": "execute_result",
          "data": {
            "text/plain": [
              "7"
            ]
          },
          "metadata": {
            "tags": []
          },
          "execution_count": 33
        }
      ]
    },
    {
      "cell_type": "code",
      "metadata": {
        "id": "F5B4Po6G7Mf9",
        "outputId": "e2f4be6a-a758-4c5b-f14f-3d90fe5184c9",
        "colab": {
          "base_uri": "https://localhost:8080/",
          "height": 34
        }
      },
      "source": [
        "# The reduce function plus lambda:\n",
        "shopping_list = [100, 150, 27, 137, 45]\n",
        "\n",
        "import functools\n",
        "# A sum:\n",
        "print(functools.reduce(lambda x, y: x + y, shopping_list))"
      ],
      "execution_count": null,
      "outputs": [
        {
          "output_type": "stream",
          "text": [
            "459\n"
          ],
          "name": "stdout"
        }
      ]
    },
    {
      "cell_type": "code",
      "metadata": {
        "id": "U7LojMiy9fDo",
        "outputId": "99d55704-eb6b-4f61-a435-7cf700140a66",
        "colab": {
          "base_uri": "https://localhost:8080/",
          "height": 34
        }
      },
      "source": [
        "new_add = lambda x, y: x+ y\n",
        "new_add(5, 2)"
      ],
      "execution_count": null,
      "outputs": [
        {
          "output_type": "execute_result",
          "data": {
            "text/plain": [
              "7"
            ]
          },
          "metadata": {
            "tags": []
          },
          "execution_count": 36
        }
      ]
    },
    {
      "cell_type": "code",
      "metadata": {
        "id": "MjQnzbDi95Ur",
        "outputId": "b0703a14-c9a7-4ba7-dc79-296e577bd907",
        "colab": {
          "base_uri": "https://localhost:8080/",
          "height": 34
        }
      },
      "source": [
        "# lambda as an argument:\n",
        "my_list = [0, 1, 2, 3, 4, 5, 6, 7]\n",
        "print(list(filter(lambda x: x % 2 == 0, my_list)))"
      ],
      "execution_count": null,
      "outputs": [
        {
          "output_type": "stream",
          "text": [
            "[0, 2, 4, 6]\n"
          ],
          "name": "stdout"
        }
      ]
    },
    {
      "cell_type": "code",
      "metadata": {
        "id": "ss0lTXOk_Bl7",
        "outputId": "3268c60a-ea7f-4ac0-d898-eb4ba1a30e30",
        "colab": {
          "base_uri": "https://localhost:8080/",
          "height": 34
        }
      },
      "source": [
        "# sorting key with lambda: by the second tuple argument\n",
        "list_of_tuples = [(2, 2), (3, 4), (4, 1), (1, 3)]\n",
        "print(sorted(list_of_tuples, key=lambda x: x[1] ))"
      ],
      "execution_count": null,
      "outputs": [
        {
          "output_type": "stream",
          "text": [
            "[(4, 1), (2, 2), (1, 3), (3, 4)]\n"
          ],
          "name": "stdout"
        }
      ]
    },
    {
      "cell_type": "code",
      "metadata": {
        "id": "8HsQdA0a_6rO",
        "outputId": "297867f0-a7fa-49bf-bc20-d85a107b6aad",
        "colab": {
          "base_uri": "https://localhost:8080/",
          "height": 85
        }
      },
      "source": [
        "# Ex. 1.2.1:\n",
        "\n",
        "a = lambda x: 1\n",
        "print(a(3))\n",
        "print(a(\"s\"))\n",
        "print(a(2))\n",
        "print(type(a(3)))"
      ],
      "execution_count": null,
      "outputs": [
        {
          "output_type": "stream",
          "text": [
            "1\n",
            "1\n",
            "1\n",
            "<class 'int'>\n"
          ],
          "name": "stdout"
        }
      ]
    },
    {
      "cell_type": "code",
      "metadata": {
        "id": "oXD_BBW9JNnG",
        "outputId": "f3e35568-173c-45dd-c212-58fc5ca3bfb3",
        "colab": {
          "base_uri": "https://localhost:8080/",
          "height": 51
        }
      },
      "source": [
        "# Ex. 1.2.2:\n",
        "b = lambda x: x\n",
        "print(b(1))\n",
        "print(b(3))"
      ],
      "execution_count": null,
      "outputs": [
        {
          "output_type": "stream",
          "text": [
            "1\n",
            "3\n"
          ],
          "name": "stdout"
        }
      ]
    },
    {
      "cell_type": "code",
      "metadata": {
        "id": "nrzJY_HfJa0M",
        "outputId": "7b952317-0246-4d53-90e6-07f06f1c31bc",
        "colab": {
          "base_uri": "https://localhost:8080/",
          "height": 51
        }
      },
      "source": [
        "# Ex. 1.2.3:\n",
        "c = lambda x, y: x + y\n",
        "print(c(1, 3))\n",
        "print(c(2, 5))\n"
      ],
      "execution_count": null,
      "outputs": [
        {
          "output_type": "stream",
          "text": [
            "4\n",
            "7\n"
          ],
          "name": "stdout"
        }
      ]
    },
    {
      "cell_type": "code",
      "metadata": {
        "id": "221_GYjqJoJE",
        "outputId": "3c2f891a-7c8a-40e8-fddc-4440628e30d5",
        "colab": {
          "base_uri": "https://localhost:8080/",
          "height": 51
        }
      },
      "source": [
        "# Ex. 1.2.4:\n",
        "d = lambda x, y: y\n",
        "print(d(1, 3))\n",
        "print(d(5, 2))"
      ],
      "execution_count": null,
      "outputs": [
        {
          "output_type": "stream",
          "text": [
            "3\n",
            "2\n"
          ],
          "name": "stdout"
        }
      ]
    },
    {
      "cell_type": "code",
      "metadata": {
        "id": "QTdbLp1UrMsz"
      },
      "source": [
        "import timeit\n",
        "import time"
      ],
      "execution_count": null,
      "outputs": []
    },
    {
      "cell_type": "code",
      "metadata": {
        "id": "AM6v10hbJ2m4",
        "outputId": "df0a60e6-db70-424e-ea98-fcb319d6ab73",
        "colab": {
          "base_uri": "https://localhost:8080/",
          "height": 54
        }
      },
      "source": [
        "# 1.3 Quick list making:\n",
        "# oldest way:\n",
        "#start = timeit.timeit()\n",
        "# t = time.process_time()\n",
        "power_3_list = []\n",
        "for i in range(100):\n",
        "    power_3_list.append(i ** 3)\n",
        "print(power_3_list)\n",
        "# print((time.process_time() - t)*1000)\n",
        "\n",
        "\n"
      ],
      "execution_count": null,
      "outputs": [
        {
          "output_type": "stream",
          "text": [
            "[0, 1, 8, 27, 64, 125, 216, 343, 512, 729, 1000, 1331, 1728, 2197, 2744, 3375, 4096, 4913, 5832, 6859, 8000, 9261, 10648, 12167, 13824, 15625, 17576, 19683, 21952, 24389, 27000, 29791, 32768, 35937, 39304, 42875, 46656, 50653, 54872, 59319, 64000, 68921, 74088, 79507, 85184, 91125, 97336, 103823, 110592, 117649, 125000, 132651, 140608, 148877, 157464, 166375, 175616, 185193, 195112, 205379, 216000, 226981, 238328, 250047, 262144, 274625, 287496, 300763, 314432, 328509, 343000, 357911, 373248, 389017, 405224, 421875, 438976, 456533, 474552, 493039, 512000, 531441, 551368, 571787, 592704, 614125, 636056, 658503, 681472, 704969, 729000, 753571, 778688, 804357, 830584, 857375, 884736, 912673, 941192, 970299]\n"
          ],
          "name": "stdout"
        }
      ]
    },
    {
      "cell_type": "code",
      "metadata": {
        "id": "8ukjog_douy0",
        "outputId": "71defb33-fcde-473b-8660-d94360990eea",
        "colab": {
          "base_uri": "https://localhost:8080/",
          "height": 71
        }
      },
      "source": [
        "# better way:\n",
        "\n",
        "power_3_list = range(0,100)\n",
        "print(list(map(lambda x: x**3, power_3_list)))\n"
      ],
      "execution_count": null,
      "outputs": [
        {
          "output_type": "stream",
          "text": [
            "[0, 1, 8, 27, 64, 125, 216, 343, 512, 729, 1000, 1331, 1728, 2197, 2744, 3375, 4096, 4913, 5832, 6859, 8000, 9261, 10648, 12167, 13824, 15625, 17576, 19683, 21952, 24389, 27000, 29791, 32768, 35937, 39304, 42875, 46656, 50653, 54872, 59319, 64000, 68921, 74088, 79507, 85184, 91125, 97336, 103823, 110592, 117649, 125000, 132651, 140608, 148877, 157464, 166375, 175616, 185193, 195112, 205379, 216000, 226981, 238328, 250047, 262144, 274625, 287496, 300763, 314432, 328509, 343000, 357911, 373248, 389017, 405224, 421875, 438976, 456533, 474552, 493039, 512000, 531441, 551368, 571787, 592704, 614125, 636056, 658503, 681472, 704969, 729000, 753571, 778688, 804357, 830584, 857375, 884736, 912673, 941192, 970299]\n",
            "0.5301179999985806\n"
          ],
          "name": "stdout"
        }
      ]
    },
    {
      "cell_type": "code",
      "metadata": {
        "id": "VfX-VoBrpbSN",
        "outputId": "a6993a0c-682e-442a-b676-05de9bceb7c5",
        "colab": {
          "base_uri": "https://localhost:8080/",
          "height": 71
        }
      },
      "source": [
        "# Shortest way:\n",
        "\n",
        "power_3_list = [x**3 for x in range(100)]\n",
        "print(power_3_list)\n"
      ],
      "execution_count": null,
      "outputs": [
        {
          "output_type": "stream",
          "text": [
            "[0, 1, 8, 27, 64, 125, 216, 343, 512, 729, 1000, 1331, 1728, 2197, 2744, 3375, 4096, 4913, 5832, 6859, 8000, 9261, 10648, 12167, 13824, 15625, 17576, 19683, 21952, 24389, 27000, 29791, 32768, 35937, 39304, 42875, 46656, 50653, 54872, 59319, 64000, 68921, 74088, 79507, 85184, 91125, 97336, 103823, 110592, 117649, 125000, 132651, 140608, 148877, 157464, 166375, 175616, 185193, 195112, 205379, 216000, 226981, 238328, 250047, 262144, 274625, 287496, 300763, 314432, 328509, 343000, 357911, 373248, 389017, 405224, 421875, 438976, 456533, 474552, 493039, 512000, 531441, 551368, 571787, 592704, 614125, 636056, 658503, 681472, 704969, 729000, 753571, 778688, 804357, 830584, 857375, 884736, 912673, 941192, 970299]\n",
            "0.469226999999961\n"
          ],
          "name": "stdout"
        }
      ]
    },
    {
      "cell_type": "code",
      "metadata": {
        "id": "6i0R9qrVqXuh",
        "outputId": "ba4c51e4-3c6f-412d-b313-dab08070f0d0",
        "colab": {
          "base_uri": "https://localhost:8080/",
          "height": 54
        }
      },
      "source": [
        "# 7 boom :\n",
        "boom = [(x % 7 == 0 or '7' in str(x), x) for x in range(1,100)]\n",
        "print(boom)"
      ],
      "execution_count": null,
      "outputs": [
        {
          "output_type": "stream",
          "text": [
            "[(False, 1), (False, 2), (False, 3), (False, 4), (False, 5), (False, 6), (True, 7), (False, 8), (False, 9), (False, 10), (False, 11), (False, 12), (False, 13), (True, 14), (False, 15), (False, 16), (True, 17), (False, 18), (False, 19), (False, 20), (True, 21), (False, 22), (False, 23), (False, 24), (False, 25), (False, 26), (True, 27), (True, 28), (False, 29), (False, 30), (False, 31), (False, 32), (False, 33), (False, 34), (True, 35), (False, 36), (True, 37), (False, 38), (False, 39), (False, 40), (False, 41), (True, 42), (False, 43), (False, 44), (False, 45), (False, 46), (True, 47), (False, 48), (True, 49), (False, 50), (False, 51), (False, 52), (False, 53), (False, 54), (False, 55), (True, 56), (True, 57), (False, 58), (False, 59), (False, 60), (False, 61), (False, 62), (True, 63), (False, 64), (False, 65), (False, 66), (True, 67), (False, 68), (False, 69), (True, 70), (True, 71), (True, 72), (True, 73), (True, 74), (True, 75), (True, 76), (True, 77), (True, 78), (True, 79), (False, 80), (False, 81), (False, 82), (False, 83), (True, 84), (False, 85), (False, 86), (True, 87), (False, 88), (False, 89), (False, 90), (True, 91), (False, 92), (False, 93), (False, 94), (False, 95), (False, 96), (True, 97), (True, 98), (False, 99)]\n"
          ],
          "name": "stdout"
        }
      ]
    },
    {
      "cell_type": "code",
      "metadata": {
        "id": "ISMgR6g4BGEB",
        "outputId": "75d72f14-4ec4-460e-fb84-4f7f740c6aca",
        "colab": {
          "base_uri": "https://localhost:8080/",
          "height": 34
        }
      },
      "source": [
        "# Eamples of usages:\n",
        "# 1:\n",
        "\n",
        "letters = ['a', 'b', 'c']\n",
        "upper_letters = [x.upper() for x in letters]\n",
        "print(upper_letters)"
      ],
      "execution_count": null,
      "outputs": [
        {
          "output_type": "stream",
          "text": [
            "['A', 'B', 'C']\n"
          ],
          "name": "stdout"
        }
      ]
    },
    {
      "cell_type": "code",
      "metadata": {
        "id": "gPyMaQKEEaH1",
        "outputId": "d6ee9ae2-759a-4a23-88b5-cc7e2ef05a8a",
        "colab": {
          "base_uri": "https://localhost:8080/",
          "height": 34
        }
      },
      "source": [
        "# 2:\n",
        "list1 = [1, 2, 3]\n",
        "list2 = [5, 6, 7]\n",
        "list3 = [x * y for x in list1 for y in list2]\n",
        "print(list3)"
      ],
      "execution_count": null,
      "outputs": [
        {
          "output_type": "stream",
          "text": [
            "[5, 6, 7, 10, 12, 14, 15, 18, 21]\n"
          ],
          "name": "stdout"
        }
      ]
    },
    {
      "cell_type": "code",
      "metadata": {
        "id": "GsUMQjSkE2IN",
        "outputId": "17d313ff-001d-467e-98ee-8b9e432bcb40",
        "colab": {
          "base_uri": "https://localhost:8080/",
          "height": 34
        }
      },
      "source": [
        "# List with a condition:\n",
        "my_list = [1, 2, 3, 4, 5]\n",
        "squared_list = [x*x for x in my_list if x % 2 == 0]\n",
        "print(squared_list)"
      ],
      "execution_count": null,
      "outputs": [
        {
          "output_type": "stream",
          "text": [
            "[4, 16]\n"
          ],
          "name": "stdout"
        }
      ]
    },
    {
      "cell_type": "code",
      "metadata": {
        "id": "jJHv3_O53Hjp",
        "outputId": "fe2c8e7c-3b7c-40f0-a4ed-f8fce4051b0e",
        "colab": {
          "base_uri": "https://localhost:8080/",
          "height": 34
        }
      },
      "source": [
        "# List with a nested condition:\n",
        "nested_list = [x*2 for x in range(10) if x > 3 if x < 7]\n",
        "print(nested_list)"
      ],
      "execution_count": null,
      "outputs": [
        {
          "output_type": "stream",
          "text": [
            "[8, 10, 12]\n"
          ],
          "name": "stdout"
        }
      ]
    },
    {
      "cell_type": "code",
      "metadata": {
        "id": "91NtHuuu3yQ5",
        "outputId": "9a183687-958a-4b0b-b392-8339e0dc964f",
        "colab": {
          "base_uri": "https://localhost:8080/",
          "height": 34
        }
      },
      "source": [
        "# if/ else in a list:\n",
        "even_odd_list = [\"Even\" if i % 2 == 0 else \"Odd\" for i in range(10)]\n",
        "print(even_odd_list)"
      ],
      "execution_count": null,
      "outputs": [
        {
          "output_type": "stream",
          "text": [
            "['Even', 'Odd', 'Even', 'Odd', 'Even', 'Odd', 'Even', 'Odd', 'Even', 'Odd']\n"
          ],
          "name": "stdout"
        }
      ]
    },
    {
      "cell_type": "code",
      "metadata": {
        "id": "jOo5MJnJ5Uag",
        "outputId": "756b317f-3715-4db7-d081-c5f2a35c32a5",
        "colab": {
          "base_uri": "https://localhost:8080/",
          "height": 34
        }
      },
      "source": [
        "# list of lists:\n",
        "list_of_lists = [[2 * x, x] for x in range(1, 5)]\n",
        "print(list_of_lists)"
      ],
      "execution_count": null,
      "outputs": [
        {
          "output_type": "stream",
          "text": [
            "[[2, 1], [4, 2], [6, 3], [8, 4]]\n"
          ],
          "name": "stdout"
        }
      ]
    },
    {
      "cell_type": "code",
      "metadata": {
        "id": "Imv9hDHj59KD"
      },
      "source": [
        "# The coin chalenge:\n",
        "def combine_coins(coin, num_list): return \", \".join([coin + str(num) for num in num_list])"
      ],
      "execution_count": null,
      "outputs": []
    },
    {
      "cell_type": "code",
      "metadata": {
        "id": "gdKPUMzK7tEU",
        "outputId": "a23b2bc4-fe5f-46c5-867e-7f80fcda172a",
        "colab": {
          "base_uri": "https://localhost:8080/",
          "height": 34
        }
      },
      "source": [
        "print(combine_coins('$', range(5)))"
      ],
      "execution_count": null,
      "outputs": [
        {
          "output_type": "stream",
          "text": [
            "$0, $1, $2, $3, $4\n"
          ],
          "name": "stdout"
        }
      ]
    },
    {
      "cell_type": "code",
      "metadata": {
        "id": "vziLmOw77u6T"
      },
      "source": [
        "# Ex. 1.3.1:\n",
        "def intersection(list_1, list_2):\n",
        "    return list(set(filter(lambda x: x in list_1, list_2)))"
      ],
      "execution_count": null,
      "outputs": []
    },
    {
      "cell_type": "code",
      "metadata": {
        "id": "-SJhz_cmAAvV",
        "outputId": "39a63964-de00-46a8-e0f5-e77e0149be67",
        "colab": {
          "base_uri": "https://localhost:8080/",
          "height": 51
        }
      },
      "source": [
        "print(intersection([1, 2, 3, 4], [8, 3, 9]))\n",
        "print(intersection([5, 5, 6, 6, 7, 7], [1, 5, 9, 5, 6]))"
      ],
      "execution_count": null,
      "outputs": [
        {
          "output_type": "stream",
          "text": [
            "[3]\n",
            "[5, 6]\n"
          ],
          "name": "stdout"
        }
      ]
    },
    {
      "cell_type": "code",
      "metadata": {
        "id": "Sfp7Zp6-AD33"
      },
      "source": [
        "# Ex. 1.3.1 option b:\n",
        "def intersection(list_1, list_2):\n",
        "    return list(set([ x for x in list_1 for y in list_2 if x == y]))"
      ],
      "execution_count": null,
      "outputs": []
    },
    {
      "cell_type": "code",
      "metadata": {
        "id": "bf_pg6xoBVVk",
        "outputId": "c5c0f538-e643-467e-b4f4-df35f7e6a0a8",
        "colab": {
          "base_uri": "https://localhost:8080/",
          "height": 51
        }
      },
      "source": [
        "print(intersection([1, 2, 3, 4], [8, 3, 9]))\n",
        "print(intersection([5, 5, 6, 6, 7, 7], [1, 5, 9, 5, 6]))"
      ],
      "execution_count": null,
      "outputs": [
        {
          "output_type": "stream",
          "text": [
            "[3]\n",
            "[5, 6]\n"
          ],
          "name": "stdout"
        }
      ]
    },
    {
      "cell_type": "code",
      "metadata": {
        "id": "eFTqE0FdBW91"
      },
      "source": [
        "# Ex. 1.3.2:\n",
        "def is_prime(number):\n",
        "    return not (len([x for x in range(2, number) if number % x == 0]) > 0)"
      ],
      "execution_count": null,
      "outputs": []
    },
    {
      "cell_type": "code",
      "metadata": {
        "id": "pySyqfF-odGS",
        "outputId": "61d08a94-51c3-44e8-8143-c9c45e30f575",
        "colab": {
          "base_uri": "https://localhost:8080/",
          "height": 68
        }
      },
      "source": [
        "print(is_prime(42))\n",
        "print(is_prime(43))\n",
        "print(is_prime(21))"
      ],
      "execution_count": null,
      "outputs": [
        {
          "output_type": "stream",
          "text": [
            "False\n",
            "True\n",
            "False\n"
          ],
          "name": "stdout"
        }
      ]
    },
    {
      "cell_type": "code",
      "metadata": {
        "id": "IZGX3bXsor2M"
      },
      "source": [
        "# Ex. 1.3.3:\n",
        "def is_funny(string):\n",
        "    return not len([char for char in string if char != 'h' and char != 'a']) > 0"
      ],
      "execution_count": null,
      "outputs": []
    },
    {
      "cell_type": "code",
      "metadata": {
        "id": "FXV5BPXqqCiS",
        "outputId": "facb1424-d83d-444f-e2dc-b901813c87cd",
        "colab": {
          "base_uri": "https://localhost:8080/",
          "height": 51
        }
      },
      "source": [
        "print(is_funny(\"hahahahahaha\"))\n",
        "print(is_funny(\"hahahachahaha\"))"
      ],
      "execution_count": null,
      "outputs": [
        {
          "output_type": "stream",
          "text": [
            "True\n",
            "False\n"
          ],
          "name": "stdout"
        }
      ]
    },
    {
      "cell_type": "code",
      "metadata": {
        "id": "yAUi8JCaqIuk"
      },
      "source": [
        "# Ex. 1.3.3 option b:\n",
        "def is_funny(string):\n",
        "    return not len(list(filter(lambda char: char != 'h' and char != 'a', string))) > 0"
      ],
      "execution_count": null,
      "outputs": []
    },
    {
      "cell_type": "code",
      "metadata": {
        "id": "DOCUzJnlrF7k",
        "outputId": "a0b69ccb-3fd4-4e04-b67f-c9382be6dc71",
        "colab": {
          "base_uri": "https://localhost:8080/",
          "height": 51
        }
      },
      "source": [
        "print(is_funny(\"hahahahahaha\"))\n",
        "print(is_funny(\"hahahachahaha\"))"
      ],
      "execution_count": null,
      "outputs": [
        {
          "output_type": "stream",
          "text": [
            "True\n",
            "False\n"
          ],
          "name": "stdout"
        }
      ]
    },
    {
      "cell_type": "code",
      "metadata": {
        "id": "h5liKU0prHKi",
        "outputId": "36073b17-af45-486f-8c34-f4cf249eb80e",
        "colab": {
          "base_uri": "https://localhost:8080/",
          "height": 34
        }
      },
      "source": [
        "# Ex. 1.3.4:\n",
        "password = \"sljmai ugrf rfc ambc: lglc dmsp mlc rum\"\n",
        "\n",
        "new_pass = \"\"\n",
        "for char in password:\n",
        "    if char.isalpha():\n",
        "        new_pass += chr(ord(char) + 2)\n",
        "    else: new_pass += char\n",
        "        \n",
        "print(new_pass)\n",
        "\n",
        "\n",
        "\n",
        "\n",
        "\n",
        "\n"
      ],
      "execution_count": null,
      "outputs": [
        {
          "output_type": "stream",
          "text": [
            "unlock with the code: nine four one two\n"
          ],
          "name": "stdout"
        }
      ]
    },
    {
      "cell_type": "code",
      "metadata": {
        "id": "fdlSrNRww5Qn",
        "outputId": "00a622b8-cf39-4a6b-ce92-d3dd7893793d",
        "colab": {
          "base_uri": "https://localhost:8080/",
          "height": 34
        }
      },
      "source": [
        "# Ex. 1.3.4: one liner:\n",
        "print(\"\".join([chr(ord(char) + 2) if char.isalpha() else char for char in password]))"
      ],
      "execution_count": null,
      "outputs": [
        {
          "output_type": "stream",
          "text": [
            "unlock with the code: nine four one two\n"
          ],
          "name": "stdout"
        }
      ]
    },
    {
      "cell_type": "code",
      "metadata": {
        "id": "g0EroNL8WJTK",
        "outputId": "771d7a11-c72a-4cb3-ffc5-37db8d6a57f3",
        "colab": {
          "base_uri": "https://localhost:8080/",
          "height": 67
        }
      },
      "source": [
        "# Ex. 1.5:\n",
        "with open(\"/content/drive/My Drive/Colab Notebooks/other_files/names.txt\") as input_file:\n",
        "    print(max(input_file.read().split())) # part 1\n",
        "with open(\"/content/drive/My Drive/Colab Notebooks/other_files/names.txt\") as input_file:\n",
        "    print(len(\"\".join(input_file.read().split()))) # part 2\n",
        "with open(\"/content/drive/My Drive/Colab Notebooks/other_files/names.txt\") as input_file:\n",
        "    print(sum(map(lambda name: len(name), input_file.read().split()))) # part 2 alt 2 \n",
        "    "
      ],
      "execution_count": 1,
      "outputs": [
        {
          "output_type": "stream",
          "text": [
            "Vladimir\n",
            "38\n",
            "38\n"
          ],
          "name": "stdout"
        }
      ]
    },
    {
      "cell_type": "code",
      "metadata": {
        "id": "x49DaJVUYxxe",
        "outputId": "b39cd62f-e80e-400a-8f0e-0c9ce9a648c5",
        "colab": {
          "base_uri": "https://localhost:8080/",
          "height": 34
        }
      },
      "source": [
        "with open(\"/content/drive/My Drive/Colab Notebooks/other_files/names.txt\") as input_file:\n",
        "    sorted_input = sorted(input_file.read().split(), key = lambda name: len(name))\n",
        "    print([name for name in sorted_input if len(name) == len(sorted_input[0])]) # part 3"
      ],
      "execution_count": 13,
      "outputs": [
        {
          "output_type": "stream",
          "text": [
            "['Ed', 'Jo']\n"
          ],
          "name": "stdout"
        }
      ]
    },
    {
      "cell_type": "code",
      "metadata": {
        "id": "u0KthWk4Rjxp"
      },
      "source": [
        ""
      ],
      "execution_count": null,
      "outputs": []
    }
  ]
}