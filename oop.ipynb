{
  "nbformat": 4,
  "nbformat_minor": 0,
  "metadata": {
    "colab": {
      "name": "oop.ipynb",
      "provenance": [],
      "collapsed_sections": [],
      "authorship_tag": "ABX9TyNU8DL46NJTiYXeLbveWpaV",
      "include_colab_link": true
    },
    "kernelspec": {
      "name": "python3",
      "display_name": "Python 3"
    }
  },
  "cells": [
    {
      "cell_type": "markdown",
      "metadata": {
        "id": "view-in-github",
        "colab_type": "text"
      },
      "source": [
        "<a href=\"https://colab.research.google.com/github/jony6484/my-first-binder/blob/master/oop.ipynb\" target=\"_parent\"><img src=\"https://colab.research.google.com/assets/colab-badge.svg\" alt=\"Open In Colab\"/></a>"
      ]
    },
    {
      "cell_type": "code",
      "metadata": {
        "id": "u-yvidCVn3s-"
      },
      "source": [
        "# Defining a class\n",
        "class BankAccount:\n",
        "    # Class variable:\n",
        "    bank_name = \"PayPy\"\n",
        "\n",
        "    def __init__(self, balance = 0):\n",
        "        self.balance = balance\n",
        "\n",
        "    def deposit(self, amount):\n",
        "        self.balance += amount\n",
        "\n",
        "    def withdraw(self, amount):\n",
        "        self.balance -= amount\n",
        "\n",
        "    def print_balance(self):\n",
        "        print(\"Current balance is: \", self.balance)\n",
        "\n",
        "    def greet(self, name):\n",
        "        print(\"Welcome\", name)"
      ],
      "execution_count": null,
      "outputs": []
    },
    {
      "cell_type": "code",
      "metadata": {
        "id": "IB86SL8Gp7sR",
        "outputId": "16d83685-e688-4af8-99e0-1aa9a8a7b7ce",
        "colab": {
          "base_uri": "https://localhost:8080/",
          "height": 68
        }
      },
      "source": [
        "def main():\n",
        "    michals_account = BankAccount() # Creating an object of class BankAccount\n",
        "    #print(michals_account)\n",
        "    amirs_account = BankAccount() # Creating an object of class BankAccount\n",
        "    #print(amirs_account)\n",
        "\n",
        "    michals_account.greet(\"Michal\")\n",
        "    amirs_account.greet(\"Amir\")\n",
        "\n",
        "    eyal = BankAccount()\n",
        "    eyal.deposit(1200)\n",
        "    eyal.withdraw(200)\n",
        "    eyal.print_balance()\n",
        "    \n",
        "main()"
      ],
      "execution_count": null,
      "outputs": [
        {
          "output_type": "stream",
          "text": [
            "Welcome Michal\n",
            "Welcome Amir\n",
            "Current balance is:  1000\n"
          ],
          "name": "stdout"
        }
      ]
    },
    {
      "cell_type": "code",
      "metadata": {
        "id": "99C8M9LvqTit",
        "outputId": "fbabffc8-5e7d-4f7b-b034-e5e700ca2273",
        "colab": {
          "base_uri": "https://localhost:8080/",
          "height": 51
        }
      },
      "source": [
        "# Part 2:\n",
        "# Create two new accounts: one empty and one with initial balance:\n",
        "no_prev_money_account = BankAccount()\n",
        "with_prev_money_account = BankAccount(2000)\n",
        "# Deposite 1 to both accounts:\n",
        "no_prev_money_account.deposit(1)\n",
        "with_prev_money_account.deposit(1)\n",
        "# Print the balane in both accounts:\n",
        "no_prev_money_account.print_balance()\n",
        "with_prev_money_account.print_balance()"
      ],
      "execution_count": null,
      "outputs": [
        {
          "output_type": "stream",
          "text": [
            "Current balance is:  1\n",
            "Current balance is:  2001\n"
          ],
          "name": "stdout"
        }
      ]
    },
    {
      "cell_type": "code",
      "metadata": {
        "id": "PbsiuYuSqbgL",
        "outputId": "e37edf24-8bd2-4118-c78a-98669f8a4fb9",
        "colab": {
          "base_uri": "https://localhost:8080/",
          "height": 51
        }
      },
      "source": [
        "customer1 = BankAccount()\n",
        "customer2 = BankAccount()\n",
        "\n",
        "customer1.deposit(400)\n",
        "customer2.deposit(20)\n",
        "\n",
        "customer1.print_balance()\n",
        "customer2.print_balance()"
      ],
      "execution_count": null,
      "outputs": [
        {
          "output_type": "stream",
          "text": [
            "Current balance is:  400\n",
            "Current balance is:  20\n"
          ],
          "name": "stdout"
        }
      ]
    },
    {
      "cell_type": "code",
      "metadata": {
        "id": "-MBj47LVZB-x",
        "outputId": "ecf78cce-246a-409d-c663-1fee6e6c6cc2",
        "colab": {
          "base_uri": "https://localhost:8080/",
          "height": 34
        }
      },
      "source": [
        "my_account = BankAccount()\n",
        "my_account.deposit(200) # change the value of balance in an indirect way\n",
        "my_account.withdraw(20)\n",
        "my_account.balance = 0 # Direct access to the balance value without a method\n",
        "print(my_account.balance) # Direct access to the balance value without a method"
      ],
      "execution_count": null,
      "outputs": [
        {
          "output_type": "stream",
          "text": [
            "0\n"
          ],
          "name": "stdout"
        }
      ]
    },
    {
      "cell_type": "code",
      "metadata": {
        "id": "M88uP3jvdZlw",
        "outputId": "81dd45b0-b71b-4677-91be-ea796cfba865",
        "colab": {
          "base_uri": "https://localhost:8080/",
          "height": 85
        }
      },
      "source": [
        "# Class variables:\n",
        "print(BankAccount.bank_name)\n",
        "print(customer1.bank_name)\n",
        "BankAccount.bank_name = \"PyBank\"\n",
        "print(BankAccount.bank_name)\n",
        "print(customer1.bank_name)"
      ],
      "execution_count": null,
      "outputs": [
        {
          "output_type": "stream",
          "text": [
            "PayPy\n",
            "PayPy\n",
            "PyBank\n",
            "PyBank\n"
          ],
          "name": "stdout"
        }
      ]
    },
    {
      "cell_type": "code",
      "metadata": {
        "id": "pg2vMQiCxp5b"
      },
      "source": [
        "class Dog():\n",
        "    \n",
        "    def __init__(self, name = \"Octavio\"):\n",
        "        self._name = name\n",
        "        self._age = 12\n",
        "    \n",
        "    def birthday(self):\n",
        "        self.age += 1\n",
        "    \n",
        "    def get_age(self):\n",
        "        return self.age\n"
      ],
      "execution_count": null,
      "outputs": []
    },
    {
      "cell_type": "code",
      "metadata": {
        "id": "FvT8gMeWUcQC",
        "outputId": "90cd7583-4426-4cab-9682-029167f4a803",
        "colab": {
          "base_uri": "https://localhost:8080/",
          "height": 51
        }
      },
      "source": [
        "dog1 = Dog()\n",
        "dog2 = Dog()\n",
        "\n",
        "dog1.birthday()\n",
        "print(dog1.get_age())\n",
        "print(dog2.get_age())"
      ],
      "execution_count": null,
      "outputs": [
        {
          "output_type": "stream",
          "text": [
            "13\n",
            "12\n"
          ],
          "name": "stdout"
        }
      ]
    },
    {
      "cell_type": "code",
      "metadata": {
        "id": "hG2kJI-IUx1C"
      },
      "source": [
        ""
      ],
      "execution_count": null,
      "outputs": []
    }
  ]
}